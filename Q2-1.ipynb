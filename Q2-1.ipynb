{
 "cells": [
  {
   "cell_type": "code",
   "execution_count": 13,
   "metadata": {},
   "outputs": [
    {
     "name": "stdout",
     "output_type": "stream",
     "text": [
      "﻿ no ,  he says now .\n",
      "\n",
      "97162\n"
     ]
    }
   ],
   "source": [
    "#!/usr/bin/python\n",
    "# -*- coding: UTF-8 -*- \n",
    "\n",
    "f = open('F:/raw.txt', 'r', encoding = 'utf8')\n",
    "rawText = f.readlines()\n",
    "rawText = [temp.lower() for temp in rawText]\n",
    "\n",
    "print(rawText[0])\n",
    "print(len(rawText))"
   ]
  },
  {
   "cell_type": "code",
   "execution_count": 30,
   "metadata": {},
   "outputs": [
    {
     "name": "stdout",
     "output_type": "stream",
     "text": [
      "0.15547230398715547\n",
      "0.02494802494802495\n"
     ]
    }
   ],
   "source": [
    "import re\n",
    "\n",
    "def ngram_probs(ngram):\n",
    "    pattern = ngram[0]\n",
    "    for i in range(len(ngram)):\n",
    "        if i == 0:\n",
    "            continue\n",
    "        pattern = pattern + '[^a-z]' + ngram[i]\n",
    "    result = [re.search(pattern, temp) for temp in rawText]    \n",
    "    count = result.count(None)\n",
    "    pros = (len(rawText) - count)/len(rawText)\n",
    "    return pros\n",
    "\n",
    "print(ngram_probs(('we', )))\n",
    "print(ngram_probs(('we', 'are')))"
   ]
  },
  {
   "cell_type": "code",
   "execution_count": null,
   "metadata": {
    "collapsed": true
   },
   "outputs": [],
   "source": []
  }
 ],
 "metadata": {
  "kernelspec": {
   "display_name": "Python 3",
   "language": "python",
   "name": "python3"
  },
  "language_info": {
   "codemirror_mode": {
    "name": "ipython",
    "version": 3
   },
   "file_extension": ".py",
   "mimetype": "text/x-python",
   "name": "python",
   "nbconvert_exporter": "python",
   "pygments_lexer": "ipython3",
   "version": "3.6.1"
  }
 },
 "nbformat": 4,
 "nbformat_minor": 2
}
